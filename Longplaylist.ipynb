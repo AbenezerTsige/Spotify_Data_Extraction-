{
 "cells": [
  {
   "cell_type": "code",
   "execution_count": 1,
   "id": "9ebed760",
   "metadata": {},
   "outputs": [],
   "source": [
    "import requests\n",
    "import base64\n",
    "import json\n",
    "import cred\n",
    "from os import getenv\n",
    "import numpy as np  # useful for many scientific computing in Python\n",
    "import pandas as pd # primary data structure library\n",
    "import seaborn as sns"
   ]
  },
  {
   "cell_type": "code",
   "execution_count": 2,
   "id": "481fe4ca",
   "metadata": {},
   "outputs": [],
   "source": [
    "# Step 1 - Authorization : to make a request, send the parameters below\n",
    "url = \"https://accounts.spotify.com/api/token\"  # url endpoint \n",
    "headers = {}                                    # to send access tokens \n",
    "data = {}                                       # part of the payload\n"
   ]
  },
  {
   "cell_type": "code",
   "execution_count": 3,
   "id": "20ad2b04",
   "metadata": {},
   "outputs": [],
   "source": [
    "cid = getenv(\"SPOTIPY_CLIENT_ID\")\n",
    "secret = getenv(\"SPOTIPY_CLIENT_SECRET\")"
   ]
  },
  {
   "cell_type": "code",
   "execution_count": 4,
   "id": "a5fadd43",
   "metadata": {},
   "outputs": [],
   "source": [
    "def getAccessToken(cid, secret):\n",
    "    # Encode as Base64\n",
    "    message = f\"{cid}:{secret}\"\n",
    "    messageBytes = message.encode('ascii')       # Convert into bytes\n",
    "    base64Bytes = base64.b64encode(messageBytes) # base64 encode it\n",
    "    base64Message = base64Bytes.decode('ascii')  # convert bytes back to a string\n",
    "\n",
    "    headers['Authorization'] = f\"Basic {base64Message}\"\n",
    "    data['grant_type'] = \"client_credentials\"\n",
    "\n",
    "    res = requests.post(url, headers=headers, data=data) \n",
    "    responseObject = res.json()\n",
    "    accessToken = responseObject['access_token']\n",
    "\n",
    "    return accessToken"
   ]
  },
  {
   "cell_type": "code",
   "execution_count": 5,
   "id": "4e9ed453",
   "metadata": {},
   "outputs": [],
   "source": [
    "def getPlaylistTracks(token, playlistID):\n",
    "    \n",
    "    playlistUrl = f\"https://api.spotify.com/v1/playlists/{playlistId}\"\n",
    "    getHeader = {\"Authorization\": \"Bearer \" + token}\n",
    "    res = requests.get(url=playlistUrl, headers=getHeader)\n",
    "    playlistObject = res.json()\n",
    "\n",
    "    return playlistObject "
   ]
  },
  {
   "cell_type": "code",
   "execution_count": 6,
   "id": "038ce47a",
   "metadata": {},
   "outputs": [],
   "source": [
    "# API requests \n",
    "token = getAccessToken(cid, secret)\n",
    "playlistId = '4hOKQuZbraPDIfaGbM3lKI?si=78ee28fb02e1448b'\n",
    "tracklist = getPlaylistTracks(token, playlistId)\n",
    "\n",
    "with open('tracklist.json', 'w') as f:\n",
    "    json.dump(tracklist, f)"
   ]
  },
  {
   "cell_type": "code",
   "execution_count": 7,
   "id": "c5a5d4ca",
   "metadata": {},
   "outputs": [],
   "source": [
    "# Extract long tracks and put them into a dictionary \n",
    "\n",
    "Tracks = []\n",
    "Duration = []\n",
    "\n",
    "for t in tracklist['tracks']['items']:\n",
    "    songNames = t['track']['name']\n",
    "    duration = t['track']['duration_ms']\n",
    "    Tracks.append(songNames)\n",
    "    minutes=(duration/(1000*60))%60\n",
    "    minutes = int(minutes)\n",
    "    Duration.append(minutes)\n",
    "\n",
    "L_Tracks = {'songName': Tracks, 'Duration' : Duration}\n",
    "#print(L_Tracks)\n"
   ]
  },
  {
   "cell_type": "code",
   "execution_count": 8,
   "id": "07b884bb",
   "metadata": {},
   "outputs": [
    {
     "data": {
      "text/plain": [
       "<AxesSubplot:>"
      ]
     },
     "execution_count": 8,
     "metadata": {},
     "output_type": "execute_result"
    },
    {
     "data": {
      "image/png": "[encoded data removed]",
      "text/plain": [
       "<Figure size 1440x720 with 1 Axes>"
      ]
     },
     "metadata": {
      "needs_background": "light"
     },
     "output_type": "display_data"
    }
   ],
   "source": [
    "# Long Tracks\n",
    "df = pd.DataFrame.from_dict(L_Tracks)\n",
    "df.columns=['Tracks', 'Duration']\n",
    "\n",
    "df = df.sort_values(by=['Duration'], ascending=False)  \n",
    "df_top50 = df.head(50)\n",
    "df_top50.plot(kind='bar', figsize=(20,10))"
   ]
  },
  {
   "cell_type": "code",
   "execution_count": 10,
   "id": "c10eec42",
   "metadata": {},
   "outputs": [
    {
     "ename": "UFuncTypeError",
     "evalue": "ufunc 'multiply' did not contain a loop with signature matching types (dtype('<U14'), dtype('float64')) -> None",
     "output_type": "error",
     "traceback": [
      "\u001b[1;31m---------------------------------------------------------------------------\u001b[0m",
      "\u001b[1;31mUFuncTypeError\u001b[0m                            Traceback (most recent call last)",
      "Input \u001b[1;32mIn [10]\u001b[0m, in \u001b[0;36m<cell line: 1>\u001b[1;34m()\u001b[0m\n\u001b[1;32m----> 1\u001b[0m ax \u001b[38;5;241m=\u001b[39m \u001b[43msns\u001b[49m\u001b[38;5;241;43m.\u001b[39;49m\u001b[43mregplot\u001b[49m\u001b[43m(\u001b[49m\u001b[43mx\u001b[49m\u001b[38;5;241;43m=\u001b[39;49m\u001b[38;5;124;43m'\u001b[39;49m\u001b[38;5;124;43mTracks\u001b[39;49m\u001b[38;5;124;43m'\u001b[39;49m\u001b[43m,\u001b[49m\u001b[43m \u001b[49m\u001b[43my\u001b[49m\u001b[38;5;241;43m=\u001b[39;49m\u001b[38;5;124;43m'\u001b[39;49m\u001b[38;5;124;43mDuration\u001b[39;49m\u001b[38;5;124;43m'\u001b[39;49m\u001b[43m,\u001b[49m\u001b[43m \u001b[49m\u001b[43mdata\u001b[49m\u001b[38;5;241;43m=\u001b[39;49m\u001b[43mdf_top50\u001b[49m\u001b[43m)\u001b[49m\n",
      "File \u001b[1;32m~\\anaconda3\\lib\\site-packages\\seaborn\\_decorators.py:46\u001b[0m, in \u001b[0;36m_deprecate_positional_args.<locals>.inner_f\u001b[1;34m(*args, **kwargs)\u001b[0m\n\u001b[0;32m     36\u001b[0m     warnings\u001b[38;5;241m.\u001b[39mwarn(\n\u001b[0;32m     37\u001b[0m         \u001b[38;5;124m\"\u001b[39m\u001b[38;5;124mPass the following variable\u001b[39m\u001b[38;5;132;01m{}\u001b[39;00m\u001b[38;5;124m as \u001b[39m\u001b[38;5;132;01m{}\u001b[39;00m\u001b[38;5;124mkeyword arg\u001b[39m\u001b[38;5;132;01m{}\u001b[39;00m\u001b[38;5;124m: \u001b[39m\u001b[38;5;132;01m{}\u001b[39;00m\u001b[38;5;124m. \u001b[39m\u001b[38;5;124m\"\u001b[39m\n\u001b[0;32m     38\u001b[0m         \u001b[38;5;124m\"\u001b[39m\u001b[38;5;124mFrom version 0.12, the only valid positional argument \u001b[39m\u001b[38;5;124m\"\u001b[39m\n\u001b[1;32m   (...)\u001b[0m\n\u001b[0;32m     43\u001b[0m         \u001b[38;5;167;01mFutureWarning\u001b[39;00m\n\u001b[0;32m     44\u001b[0m     )\n\u001b[0;32m     45\u001b[0m kwargs\u001b[38;5;241m.\u001b[39mupdate({k: arg \u001b[38;5;28;01mfor\u001b[39;00m k, arg \u001b[38;5;129;01min\u001b[39;00m \u001b[38;5;28mzip\u001b[39m(sig\u001b[38;5;241m.\u001b[39mparameters, args)})\n\u001b[1;32m---> 46\u001b[0m \u001b[38;5;28;01mreturn\u001b[39;00m f(\u001b[38;5;241m*\u001b[39m\u001b[38;5;241m*\u001b[39mkwargs)\n",
      "File \u001b[1;32m~\\anaconda3\\lib\\site-packages\\seaborn\\regression.py:863\u001b[0m, in \u001b[0;36mregplot\u001b[1;34m(x, y, data, x_estimator, x_bins, x_ci, scatter, fit_reg, ci, n_boot, units, seed, order, logistic, lowess, robust, logx, x_partial, y_partial, truncate, dropna, x_jitter, y_jitter, label, color, marker, scatter_kws, line_kws, ax)\u001b[0m\n\u001b[0;32m    861\u001b[0m scatter_kws[\u001b[38;5;124m\"\u001b[39m\u001b[38;5;124mmarker\u001b[39m\u001b[38;5;124m\"\u001b[39m] \u001b[38;5;241m=\u001b[39m marker\n\u001b[0;32m    862\u001b[0m line_kws \u001b[38;5;241m=\u001b[39m {} \u001b[38;5;28;01mif\u001b[39;00m line_kws \u001b[38;5;129;01mis\u001b[39;00m \u001b[38;5;28;01mNone\u001b[39;00m \u001b[38;5;28;01melse\u001b[39;00m copy\u001b[38;5;241m.\u001b[39mcopy(line_kws)\n\u001b[1;32m--> 863\u001b[0m \u001b[43mplotter\u001b[49m\u001b[38;5;241;43m.\u001b[39;49m\u001b[43mplot\u001b[49m\u001b[43m(\u001b[49m\u001b[43max\u001b[49m\u001b[43m,\u001b[49m\u001b[43m \u001b[49m\u001b[43mscatter_kws\u001b[49m\u001b[43m,\u001b[49m\u001b[43m \u001b[49m\u001b[43mline_kws\u001b[49m\u001b[43m)\u001b[49m\n\u001b[0;32m    864\u001b[0m \u001b[38;5;28;01mreturn\u001b[39;00m ax\n",
      "File \u001b[1;32m~\\anaconda3\\lib\\site-packages\\seaborn\\regression.py:370\u001b[0m, in \u001b[0;36m_RegressionPlotter.plot\u001b[1;34m(self, ax, scatter_kws, line_kws)\u001b[0m\n\u001b[0;32m    367\u001b[0m     \u001b[38;5;28mself\u001b[39m\u001b[38;5;241m.\u001b[39mscatterplot(ax, scatter_kws)\n\u001b[0;32m    369\u001b[0m \u001b[38;5;28;01mif\u001b[39;00m \u001b[38;5;28mself\u001b[39m\u001b[38;5;241m.\u001b[39mfit_reg:\n\u001b[1;32m--> 370\u001b[0m     \u001b[38;5;28;43mself\u001b[39;49m\u001b[38;5;241;43m.\u001b[39;49m\u001b[43mlineplot\u001b[49m\u001b[43m(\u001b[49m\u001b[43max\u001b[49m\u001b[43m,\u001b[49m\u001b[43m \u001b[49m\u001b[43mline_kws\u001b[49m\u001b[43m)\u001b[49m\n\u001b[0;32m    372\u001b[0m \u001b[38;5;66;03m# Label the axes\u001b[39;00m\n\u001b[0;32m    373\u001b[0m \u001b[38;5;28;01mif\u001b[39;00m \u001b[38;5;28mhasattr\u001b[39m(\u001b[38;5;28mself\u001b[39m\u001b[38;5;241m.\u001b[39mx, \u001b[38;5;124m\"\u001b[39m\u001b[38;5;124mname\u001b[39m\u001b[38;5;124m\"\u001b[39m):\n",
      "File \u001b[1;32m~\\anaconda3\\lib\\site-packages\\seaborn\\regression.py:413\u001b[0m, in \u001b[0;36m_RegressionPlotter.lineplot\u001b[1;34m(self, ax, kws)\u001b[0m\n\u001b[0;32m    411\u001b[0m \u001b[38;5;124;03m\"\"\"Draw the model.\"\"\"\u001b[39;00m\n\u001b[0;32m    412\u001b[0m \u001b[38;5;66;03m# Fit the regression model\u001b[39;00m\n\u001b[1;32m--> 413\u001b[0m grid, yhat, err_bands \u001b[38;5;241m=\u001b[39m \u001b[38;5;28;43mself\u001b[39;49m\u001b[38;5;241;43m.\u001b[39;49m\u001b[43mfit_regression\u001b[49m\u001b[43m(\u001b[49m\u001b[43max\u001b[49m\u001b[43m)\u001b[49m\n\u001b[0;32m    414\u001b[0m edges \u001b[38;5;241m=\u001b[39m grid[\u001b[38;5;241m0\u001b[39m], grid[\u001b[38;5;241m-\u001b[39m\u001b[38;5;241m1\u001b[39m]\n\u001b[0;32m    416\u001b[0m \u001b[38;5;66;03m# Get set default aesthetics\u001b[39;00m\n",
      "File \u001b[1;32m~\\anaconda3\\lib\\site-packages\\seaborn\\regression.py:201\u001b[0m, in \u001b[0;36m_RegressionPlotter.fit_regression\u001b[1;34m(self, ax, x_range, grid)\u001b[0m\n\u001b[0;32m    199\u001b[0m         \u001b[38;5;28;01melse\u001b[39;00m:\n\u001b[0;32m    200\u001b[0m             x_min, x_max \u001b[38;5;241m=\u001b[39m ax\u001b[38;5;241m.\u001b[39mget_xlim()\n\u001b[1;32m--> 201\u001b[0m     grid \u001b[38;5;241m=\u001b[39m \u001b[43mnp\u001b[49m\u001b[38;5;241;43m.\u001b[39;49m\u001b[43mlinspace\u001b[49m\u001b[43m(\u001b[49m\u001b[43mx_min\u001b[49m\u001b[43m,\u001b[49m\u001b[43m \u001b[49m\u001b[43mx_max\u001b[49m\u001b[43m,\u001b[49m\u001b[43m \u001b[49m\u001b[38;5;241;43m100\u001b[39;49m\u001b[43m)\u001b[49m\n\u001b[0;32m    202\u001b[0m ci \u001b[38;5;241m=\u001b[39m \u001b[38;5;28mself\u001b[39m\u001b[38;5;241m.\u001b[39mci\n\u001b[0;32m    204\u001b[0m \u001b[38;5;66;03m# Fit the regression\u001b[39;00m\n",
      "File \u001b[1;32m<__array_function__ internals>:5\u001b[0m, in \u001b[0;36mlinspace\u001b[1;34m(*args, **kwargs)\u001b[0m\n",
      "File \u001b[1;32m~\\anaconda3\\lib\\site-packages\\numpy\\core\\function_base.py:127\u001b[0m, in \u001b[0;36mlinspace\u001b[1;34m(start, stop, num, endpoint, retstep, dtype, axis)\u001b[0m\n\u001b[0;32m    123\u001b[0m div \u001b[38;5;241m=\u001b[39m (num \u001b[38;5;241m-\u001b[39m \u001b[38;5;241m1\u001b[39m) \u001b[38;5;28;01mif\u001b[39;00m endpoint \u001b[38;5;28;01melse\u001b[39;00m num\n\u001b[0;32m    125\u001b[0m \u001b[38;5;66;03m# Convert float/complex array scalars to float, gh-3504\u001b[39;00m\n\u001b[0;32m    126\u001b[0m \u001b[38;5;66;03m# and make sure one can use variables that have an __array_interface__, gh-6634\u001b[39;00m\n\u001b[1;32m--> 127\u001b[0m start \u001b[38;5;241m=\u001b[39m \u001b[43masanyarray\u001b[49m\u001b[43m(\u001b[49m\u001b[43mstart\u001b[49m\u001b[43m)\u001b[49m\u001b[43m \u001b[49m\u001b[38;5;241;43m*\u001b[39;49m\u001b[43m \u001b[49m\u001b[38;5;241;43m1.0\u001b[39;49m\n\u001b[0;32m    128\u001b[0m stop  \u001b[38;5;241m=\u001b[39m asanyarray(stop)  \u001b[38;5;241m*\u001b[39m \u001b[38;5;241m1.0\u001b[39m\n\u001b[0;32m    130\u001b[0m dt \u001b[38;5;241m=\u001b[39m result_type(start, stop, \u001b[38;5;28mfloat\u001b[39m(num))\n",
      "\u001b[1;31mUFuncTypeError\u001b[0m: ufunc 'multiply' did not contain a loop with signature matching types (dtype('<U14'), dtype('float64')) -> None"
     ]
    },
    {
     "data": {
      "image/png": "[encoded data removed]",
      "text/plain": [
       "<Figure size 432x288 with 1 Axes>"
      ]
     },
     "metadata": {
      "needs_background": "light"
     },
     "output_type": "display_data"
    }
   ],
   "source": [
    "ax = sns.regplot(x='Tracks', y='Duration', data=df_top50)\n",
    "# Recent release - order by date"
   ]
  },
  {
   "cell_type": "code",
   "execution_count": 41,
   "id": "84e59b71",
   "metadata": {},
   "outputs": [
    {
     "name": "stdout",
     "output_type": "stream",
     "text": [
      "2017-04-17\n",
      "2017-04-27\n",
      "2017-03-03\n",
      "2017-04-14\n",
      "2017-08-04\n",
      "2017-04-07\n",
      "2017-02-23\n",
      "2017-02-16\n",
      "2017-02-23\n",
      "2017-05-11\n",
      "2017-04-20\n",
      "2016-11-17\n",
      "2017-03-16\n",
      "2017-01-13\n",
      "2017-04-20\n",
      "2017-03-18\n",
      "2017-05-12\n",
      "2017-03-24\n",
      "2017-04-28\n",
      "2017-04-21\n",
      "2017\n",
      "2017-04-14\n",
      "2017-01-13\n",
      "2017-01-27\n",
      "2017-03-03\n",
      "2017-02-24\n",
      "2016-12-09\n",
      "2017-03-31\n",
      "2017-05-05\n",
      "2017-04-27\n",
      "2017-02-24\n",
      "2017-03-03\n",
      "2016-09-16\n",
      "2017-04-16\n",
      "2016-12-02\n",
      "2017-03-16\n",
      "2017-04-04\n",
      "2017-01-31\n",
      "2017-04-27\n",
      "2016-10-21\n",
      "2017-04-07\n",
      "2016-10-14\n",
      "2017-05-12\n",
      "2016-12-09\n",
      "2017-02-14\n",
      "2017-04-14\n",
      "2016-11-24\n",
      "2017-01-20\n",
      "2016-12-09\n",
      "2017-05-04\n",
      "2016-11-04\n",
      "2017-04-28\n",
      "2017-03-31\n",
      "2016-10-28\n",
      "2017-03-18\n",
      "2017-04-14\n",
      "2017-03-17\n",
      "2015-04-06\n",
      "2016-06-17\n",
      "2017-03-09\n",
      "2017-05-12\n",
      "2016-07-29\n",
      "2017-03-03\n",
      "2017-03-31\n",
      "2017-03-23\n",
      "2017-04-14\n",
      "2017-04-28\n",
      "2016\n",
      "2016-09-16\n",
      "2016-11-25\n",
      "2017-08-04\n",
      "2016-06-24\n",
      "2017-03-03\n",
      "2017-04-07\n",
      "2016-05-06\n",
      "2017-02-01\n",
      "2016-09-16\n",
      "2017-04-07\n",
      "2017-02-10\n",
      "2017-03-18\n",
      "2017-04-07\n",
      "2017-02-03\n",
      "2017-04-07\n",
      "2016-08-05\n",
      "2016-09-30\n",
      "2016-11-18\n",
      "2017-02-20\n",
      "2017-04-21\n",
      "2017-01-13\n",
      "2017-04-28\n",
      "2017-04-28\n",
      "2016-07-15\n",
      "2017-01-20\n",
      "2016-12-02\n",
      "2017-03-02\n",
      "2016-11-17\n",
      "2017-04-27\n",
      "2017-04-07\n",
      "2016-12-01\n",
      "2017-04-12\n"
     ]
    }
   ],
   "source": [
    "r_dates = []\n",
    "for t in tracklist['tracks']['items']:\n",
    "    relase_dates = t['track']['album']['release_date']\n",
    "    r_dates.append(relase_dates)\n",
    "\n",
    "    \n",
    "    \n",
    "    "
   ]
  },
  {
   "cell_type": "code",
   "execution_count": null,
   "id": "ecd4f549",
   "metadata": {},
   "outputs": [],
   "source": []
  }
 ],
 "metadata": {
  "kernelspec": {
   "display_name": "Python 3 (ipykernel)",
   "language": "python",
   "name": "python3"
  },
  "language_info": {
   "codemirror_mode": {
    "name": "ipython",
    "version": 3
   },
   "file_extension": ".py",
   "mimetype": "text/x-python",
   "name": "python",
   "nbconvert_exporter": "python",
   "pygments_lexer": "ipython3",
   "version": "3.9.12"
  }
 },
 "nbformat": 4,
 "nbformat_minor": 5
}
